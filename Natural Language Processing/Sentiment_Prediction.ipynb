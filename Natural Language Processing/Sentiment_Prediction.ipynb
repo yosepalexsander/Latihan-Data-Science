{
  "nbformat": 4,
  "nbformat_minor": 0,
  "metadata": {
    "colab": {
      "name": "Sentiment Prediction.ipynb",
      "provenance": [],
      "collapsed_sections": [
        "BVcoaF37qMjZ",
        "Q0fDtDdyqSrc",
        "LCMJ3JxGoZFx",
        "avLoct1b0Wov"
      ],
      "mount_file_id": "1xkqf9FjEGc-zuWuZ8fTtAXf3-dwDu9sx",
      "authorship_tag": "ABX9TyMMgG1jSYNMD2oGnwaDvV0M"
    },
    "kernelspec": {
      "name": "python3",
      "display_name": "Python 3"
    },
    "accelerator": "GPU"
  },
  "cells": [
    {
      "cell_type": "markdown",
      "metadata": {
        "id": "DAmxB2rdXeDO",
        "colab_type": "text"
      },
      "source": [
        "# Review classification"
      ]
    },
    {
      "cell_type": "markdown",
      "metadata": {
        "id": "L3DsiYQgXv8u",
        "colab_type": "text"
      },
      "source": [
        "## Content\n",
        "\n",
        "This is machine learning training with review classification case in the most e-Commerce corporation \"Amazon\". The data used are sourced from https://www.kaggle.com/eswarchandt/amazon-music-reviews\n",
        "\n",
        "\n",
        "The following below is the main content of this notebook:\n",
        "* Data Preparation\n",
        "* Data processing \n",
        "* Standard Machine Learning Model\n",
        "* Deep Learning Model (keras)\n",
        "* Metrics Evaluation"
      ]
    },
    {
      "cell_type": "markdown",
      "metadata": {
        "id": "lMQQS9sIz2nE",
        "colab_type": "text"
      },
      "source": [
        "Import packages"
      ]
    },
    {
      "cell_type": "code",
      "metadata": {
        "id": "ywK1ez71XTwS",
        "colab_type": "code",
        "colab": {
          "base_uri": "https://localhost:8080/",
          "height": 85
        },
        "outputId": "47e4d71c-34c4-4a76-a303-4073bf3a2bbb"
      },
      "source": [
        "\n",
        "import numpy as np\n",
        "import pandas as pd\n",
        "import re, string\n",
        "\n",
        "#plotting libraries\n",
        "import matplotlib.pyplot as plt\n",
        "import seaborn as sns\n",
        "\n",
        "#resampling\n",
        "import imblearn\n",
        "\n",
        "#natural language toolkit\n",
        "import nltk \n",
        "nltk.download(['stopwords', 'wordnet'])\n",
        "from nltk.corpus import stopwords\n",
        "from nltk.stem import WordNetLemmatizer\n",
        "\n",
        "#sklearn libraries\n",
        "from sklearn.feature_extraction.text import TfidfVectorizer\n",
        "from sklearn.linear_model import LogisticRegression\n",
        "from sklearn.naive_bayes import MultinomialNB\n",
        "from sklearn.ensemble import RandomForestClassifier\n",
        "from sklearn.model_selection import train_test_split\n",
        "from sklearn.metrics import classification_report, roc_curve, auc\n",
        "\n",
        "##tensorflow libraries\n",
        "import tensorflow as tf\n",
        "from tensorflow import keras\n",
        "from tensorflow.keras import layers\n",
        "from tensorflow.keras.preprocessing.text import Tokenizer\n",
        "from tensorflow.keras.preprocessing.sequence import pad_sequences\n",
        "from tensorflow.keras import Sequential"
      ],
      "execution_count": 341,
      "outputs": [
        {
          "output_type": "stream",
          "text": [
            "[nltk_data] Downloading package stopwords to /root/nltk_data...\n",
            "[nltk_data]   Package stopwords is already up-to-date!\n",
            "[nltk_data] Downloading package wordnet to /root/nltk_data...\n",
            "[nltk_data]   Package wordnet is already up-to-date!\n"
          ],
          "name": "stdout"
        }
      ]
    },
    {
      "cell_type": "markdown",
      "metadata": {
        "id": "BVcoaF37qMjZ",
        "colab_type": "text"
      },
      "source": [
        "### Data Preparation"
      ]
    },
    {
      "cell_type": "code",
      "metadata": {
        "id": "f4P8ACOQdKbM",
        "colab_type": "code",
        "colab": {
          "base_uri": "https://localhost:8080/",
          "height": 34
        },
        "outputId": "f4ad611c-96e5-4d48-cbdd-626587271508"
      },
      "source": [
        "#mount google drive\n",
        "from google.colab import drive\n",
        "drive.mount('/content/drive')"
      ],
      "execution_count": 262,
      "outputs": [
        {
          "output_type": "stream",
          "text": [
            "Drive already mounted at /content/drive; to attempt to forcibly remount, call drive.mount(\"/content/drive\", force_remount=True).\n"
          ],
          "name": "stdout"
        }
      ]
    },
    {
      "cell_type": "code",
      "metadata": {
        "id": "My3f7_rSdimu",
        "colab_type": "code",
        "colab": {}
      },
      "source": [
        "#copy file from drive to local VM\n",
        "\n",
        "%cp '/content/drive/My Drive/Dataset/amazon_musical_instruments_reviews.csv.zip' '/content/musical_review.zip'"
      ],
      "execution_count": 263,
      "outputs": []
    },
    {
      "cell_type": "code",
      "metadata": {
        "id": "FetIRGDgd3jt",
        "colab_type": "code",
        "colab": {}
      },
      "source": [
        "#unzip file\n",
        "\n",
        "from zipfile import ZipFile\n",
        "local_zip = '/content/musical_review.zip'\n",
        "zip_ref = ZipFile(local_zip, 'r')\n",
        "zip_ref.extractall('/content')\n",
        "zip_ref.close()"
      ],
      "execution_count": 264,
      "outputs": []
    },
    {
      "cell_type": "code",
      "metadata": {
        "id": "ScncrvADev30",
        "colab_type": "code",
        "colab": {
          "base_uri": "https://localhost:8080/",
          "height": 289
        },
        "outputId": "e0e7d49f-5f9b-4f35-e9ed-94a6d4dac5b2"
      },
      "source": [
        "#read the data\n",
        "data = pd.read_csv('/content/Musical_instruments_reviews.csv')\n",
        "\n",
        "data.head(5)"
      ],
      "execution_count": 265,
      "outputs": [
        {
          "output_type": "execute_result",
          "data": {
            "text/html": [
              "<div>\n",
              "<style scoped>\n",
              "    .dataframe tbody tr th:only-of-type {\n",
              "        vertical-align: middle;\n",
              "    }\n",
              "\n",
              "    .dataframe tbody tr th {\n",
              "        vertical-align: top;\n",
              "    }\n",
              "\n",
              "    .dataframe thead th {\n",
              "        text-align: right;\n",
              "    }\n",
              "</style>\n",
              "<table border=\"1\" class=\"dataframe\">\n",
              "  <thead>\n",
              "    <tr style=\"text-align: right;\">\n",
              "      <th></th>\n",
              "      <th>reviewerID</th>\n",
              "      <th>asin</th>\n",
              "      <th>reviewerName</th>\n",
              "      <th>helpful</th>\n",
              "      <th>reviewText</th>\n",
              "      <th>overall</th>\n",
              "      <th>summary</th>\n",
              "      <th>unixReviewTime</th>\n",
              "      <th>reviewTime</th>\n",
              "    </tr>\n",
              "  </thead>\n",
              "  <tbody>\n",
              "    <tr>\n",
              "      <th>0</th>\n",
              "      <td>A2IBPI20UZIR0U</td>\n",
              "      <td>1384719342</td>\n",
              "      <td>cassandra tu \"Yeah, well, that's just like, u...</td>\n",
              "      <td>[0, 0]</td>\n",
              "      <td>Not much to write about here, but it does exac...</td>\n",
              "      <td>5.0</td>\n",
              "      <td>good</td>\n",
              "      <td>1393545600</td>\n",
              "      <td>02 28, 2014</td>\n",
              "    </tr>\n",
              "    <tr>\n",
              "      <th>1</th>\n",
              "      <td>A14VAT5EAX3D9S</td>\n",
              "      <td>1384719342</td>\n",
              "      <td>Jake</td>\n",
              "      <td>[13, 14]</td>\n",
              "      <td>The product does exactly as it should and is q...</td>\n",
              "      <td>5.0</td>\n",
              "      <td>Jake</td>\n",
              "      <td>1363392000</td>\n",
              "      <td>03 16, 2013</td>\n",
              "    </tr>\n",
              "    <tr>\n",
              "      <th>2</th>\n",
              "      <td>A195EZSQDW3E21</td>\n",
              "      <td>1384719342</td>\n",
              "      <td>Rick Bennette \"Rick Bennette\"</td>\n",
              "      <td>[1, 1]</td>\n",
              "      <td>The primary job of this device is to block the...</td>\n",
              "      <td>5.0</td>\n",
              "      <td>It Does The Job Well</td>\n",
              "      <td>1377648000</td>\n",
              "      <td>08 28, 2013</td>\n",
              "    </tr>\n",
              "    <tr>\n",
              "      <th>3</th>\n",
              "      <td>A2C00NNG1ZQQG2</td>\n",
              "      <td>1384719342</td>\n",
              "      <td>RustyBill \"Sunday Rocker\"</td>\n",
              "      <td>[0, 0]</td>\n",
              "      <td>Nice windscreen protects my MXL mic and preven...</td>\n",
              "      <td>5.0</td>\n",
              "      <td>GOOD WINDSCREEN FOR THE MONEY</td>\n",
              "      <td>1392336000</td>\n",
              "      <td>02 14, 2014</td>\n",
              "    </tr>\n",
              "    <tr>\n",
              "      <th>4</th>\n",
              "      <td>A94QU4C90B1AX</td>\n",
              "      <td>1384719342</td>\n",
              "      <td>SEAN MASLANKA</td>\n",
              "      <td>[0, 0]</td>\n",
              "      <td>This pop filter is great. It looks and perform...</td>\n",
              "      <td>5.0</td>\n",
              "      <td>No more pops when I record my vocals.</td>\n",
              "      <td>1392940800</td>\n",
              "      <td>02 21, 2014</td>\n",
              "    </tr>\n",
              "  </tbody>\n",
              "</table>\n",
              "</div>"
            ],
            "text/plain": [
              "       reviewerID        asin  ... unixReviewTime   reviewTime\n",
              "0  A2IBPI20UZIR0U  1384719342  ...     1393545600  02 28, 2014\n",
              "1  A14VAT5EAX3D9S  1384719342  ...     1363392000  03 16, 2013\n",
              "2  A195EZSQDW3E21  1384719342  ...     1377648000  08 28, 2013\n",
              "3  A2C00NNG1ZQQG2  1384719342  ...     1392336000  02 14, 2014\n",
              "4   A94QU4C90B1AX  1384719342  ...     1392940800  02 21, 2014\n",
              "\n",
              "[5 rows x 9 columns]"
            ]
          },
          "metadata": {
            "tags": []
          },
          "execution_count": 265
        }
      ]
    },
    {
      "cell_type": "code",
      "metadata": {
        "id": "-zOaktnqfDDW",
        "colab_type": "code",
        "colab": {
          "base_uri": "https://localhost:8080/",
          "height": 511
        },
        "outputId": "3076e120-bc5e-4c04-bfdb-f8d771c0c93e"
      },
      "source": [
        "#check missing value\n",
        "plot_missing = sns.heatmap(data.isnull(), cbar=False)\n",
        "data.isnull().sum()"
      ],
      "execution_count": 266,
      "outputs": [
        {
          "output_type": "execute_result",
          "data": {
            "text/plain": [
              "reviewerID         0\n",
              "asin               0\n",
              "reviewerName      27\n",
              "helpful            0\n",
              "reviewText         7\n",
              "overall            0\n",
              "summary            0\n",
              "unixReviewTime     0\n",
              "reviewTime         0\n",
              "dtype: int64"
            ]
          },
          "metadata": {
            "tags": []
          },
          "execution_count": 266
        },
        {
          "output_type": "display_data",
          "data": {
            "image/png": "[encoded data removed]",
            "text/plain": [
              "<Figure size 432x288 with 1 Axes>"
            ]
          },
          "metadata": {
            "tags": [],
            "needs_background": "light"
          }
        }
      ]
    },
    {
      "cell_type": "code",
      "metadata": {
        "id": "B5sKKr4Rf_sq",
        "colab_type": "code",
        "colab": {}
      },
      "source": [
        "#fill missing value in the reviewText column with blank string\n",
        "data.fillna(\"\", inplace=True)"
      ],
      "execution_count": 267,
      "outputs": []
    },
    {
      "cell_type": "code",
      "metadata": {
        "id": "LviEaBv9gTPV",
        "colab_type": "code",
        "colab": {
          "base_uri": "https://localhost:8080/",
          "height": 111
        },
        "outputId": "2db54360-e87c-4fd7-fe37-f8e6dcd7a866"
      },
      "source": [
        "#drop unecessary attribute (columns)\n",
        "\n",
        "data = data.drop(['reviewerID', 'asin', 'reviewerName', 'helpful', 'unixReviewTime', 'reviewTime'], axis=1)\n",
        "data.head(2)"
      ],
      "execution_count": 268,
      "outputs": [
        {
          "output_type": "execute_result",
          "data": {
            "text/html": [
              "<div>\n",
              "<style scoped>\n",
              "    .dataframe tbody tr th:only-of-type {\n",
              "        vertical-align: middle;\n",
              "    }\n",
              "\n",
              "    .dataframe tbody tr th {\n",
              "        vertical-align: top;\n",
              "    }\n",
              "\n",
              "    .dataframe thead th {\n",
              "        text-align: right;\n",
              "    }\n",
              "</style>\n",
              "<table border=\"1\" class=\"dataframe\">\n",
              "  <thead>\n",
              "    <tr style=\"text-align: right;\">\n",
              "      <th></th>\n",
              "      <th>reviewText</th>\n",
              "      <th>overall</th>\n",
              "      <th>summary</th>\n",
              "    </tr>\n",
              "  </thead>\n",
              "  <tbody>\n",
              "    <tr>\n",
              "      <th>0</th>\n",
              "      <td>Not much to write about here, but it does exac...</td>\n",
              "      <td>5.0</td>\n",
              "      <td>good</td>\n",
              "    </tr>\n",
              "    <tr>\n",
              "      <th>1</th>\n",
              "      <td>The product does exactly as it should and is q...</td>\n",
              "      <td>5.0</td>\n",
              "      <td>Jake</td>\n",
              "    </tr>\n",
              "  </tbody>\n",
              "</table>\n",
              "</div>"
            ],
            "text/plain": [
              "                                          reviewText  overall summary\n",
              "0  Not much to write about here, but it does exac...      5.0    good\n",
              "1  The product does exactly as it should and is q...      5.0    Jake"
            ]
          },
          "metadata": {
            "tags": []
          },
          "execution_count": 268
        }
      ]
    },
    {
      "cell_type": "code",
      "metadata": {
        "id": "KcG-R9xjgy0F",
        "colab_type": "code",
        "colab": {
          "base_uri": "https://localhost:8080/",
          "height": 111
        },
        "outputId": "2a9e58ff-b21b-4187-ff3d-70812908b8f8"
      },
      "source": [
        "#create new column name 'text' with values from the result of concatenate reviewText and summary column\n",
        "data['text'] = data['reviewText'] + ' ' + data['summary'] \n",
        "\n",
        "#drop reviewText and summary column\n",
        "data = data.drop(['reviewText', 'summary'], axis=1)\n",
        "data.head(2)"
      ],
      "execution_count": 269,
      "outputs": [
        {
          "output_type": "execute_result",
          "data": {
            "text/html": [
              "<div>\n",
              "<style scoped>\n",
              "    .dataframe tbody tr th:only-of-type {\n",
              "        vertical-align: middle;\n",
              "    }\n",
              "\n",
              "    .dataframe tbody tr th {\n",
              "        vertical-align: top;\n",
              "    }\n",
              "\n",
              "    .dataframe thead th {\n",
              "        text-align: right;\n",
              "    }\n",
              "</style>\n",
              "<table border=\"1\" class=\"dataframe\">\n",
              "  <thead>\n",
              "    <tr style=\"text-align: right;\">\n",
              "      <th></th>\n",
              "      <th>overall</th>\n",
              "      <th>text</th>\n",
              "    </tr>\n",
              "  </thead>\n",
              "  <tbody>\n",
              "    <tr>\n",
              "      <th>0</th>\n",
              "      <td>5.0</td>\n",
              "      <td>Not much to write about here, but it does exac...</td>\n",
              "    </tr>\n",
              "    <tr>\n",
              "      <th>1</th>\n",
              "      <td>5.0</td>\n",
              "      <td>The product does exactly as it should and is q...</td>\n",
              "    </tr>\n",
              "  </tbody>\n",
              "</table>\n",
              "</div>"
            ],
            "text/plain": [
              "   overall                                               text\n",
              "0      5.0  Not much to write about here, but it does exac...\n",
              "1      5.0  The product does exactly as it should and is q..."
            ]
          },
          "metadata": {
            "tags": []
          },
          "execution_count": 269
        }
      ]
    },
    {
      "cell_type": "code",
      "metadata": {
        "id": "bFVmFGY6iDuH",
        "colab_type": "code",
        "colab": {
          "base_uri": "https://localhost:8080/",
          "height": 296
        },
        "outputId": "d4f8c670-7886-44ca-af99-8a3e50b3c0d8"
      },
      "source": [
        "#Check value counts of overall column\n",
        "value_count = data['overall']\n",
        "sns.countplot(value_count)"
      ],
      "execution_count": 270,
      "outputs": [
        {
          "output_type": "execute_result",
          "data": {
            "text/plain": [
              "<matplotlib.axes._subplots.AxesSubplot at 0x7fb50c4660b8>"
            ]
          },
          "metadata": {
            "tags": []
          },
          "execution_count": 270
        },
        {
          "output_type": "display_data",
          "data": {
            "image/png": "[encoded data removed]",
            "text/plain": [
              "<Figure size 432x288 with 1 Axes>"
            ]
          },
          "metadata": {
            "tags": [],
            "needs_background": "light"
          }
        }
      ]
    },
    {
      "cell_type": "code",
      "metadata": {
        "id": "qH9br8iPiRcp",
        "colab_type": "code",
        "colab": {
          "base_uri": "https://localhost:8080/",
          "height": 68
        },
        "outputId": "48029957-3e22-42ac-ebae-6099cf4d3c2d"
      },
      "source": [
        "#Change value of overall column. 1 for good sentiment with rating above 3, and 0 for bad sentiment with rating 1-3\n",
        "\n",
        "def rating_to_sentiment(rating):\n",
        "  if(int(rating) <= 3):\n",
        "    return 0\n",
        "  else:\n",
        "    return 1\n",
        "\n",
        "data['overall'] = data['overall'].apply(rating_to_sentiment)\n",
        "\n",
        "#Check the value again\n",
        "data['overall'].value_counts() "
      ],
      "execution_count": 271,
      "outputs": [
        {
          "output_type": "execute_result",
          "data": {
            "text/plain": [
              "1    9022\n",
              "0    1239\n",
              "Name: overall, dtype: int64"
            ]
          },
          "metadata": {
            "tags": []
          },
          "execution_count": 271
        }
      ]
    },
    {
      "cell_type": "markdown",
      "metadata": {
        "id": "Q0fDtDdyqSrc",
        "colab_type": "text"
      },
      "source": [
        "### Data processing"
      ]
    },
    {
      "cell_type": "code",
      "metadata": {
        "id": "kwy1znC-jA3q",
        "colab_type": "code",
        "colab": {}
      },
      "source": [
        "#Clean value in text column\n",
        "\n",
        "pattern = re.compile('\\d+')\n",
        "stopword = set(stopwords.words('english'))\n",
        "lemmatizer = WordNetLemmatizer()\n",
        "translation_table = dict.fromkeys(map(ord, string.punctuation),' ')\n",
        "\n",
        "def clean_data(text):\n",
        "  \"\"\"\n",
        "    text: a string\n",
        "\n",
        "    return: modified initial string\n",
        "  \"\"\"\n",
        "\n",
        "  text = text.lower()\n",
        "  text = text.translate(translation_table)\n",
        "  text = pattern.sub(' ', text)\n",
        "  word_list = text.split()\n",
        "  text = ' '.join([w for w in word_list if w not in stopword])\n",
        "  text = ' '.join([lemmatizer.lemmatize(word) for word in word_list])\n",
        "\n",
        "  return text\n",
        "\n",
        "data['text'] = data['text'].apply(clean_data)\n",
        "#remove digit contains in text string"
      ],
      "execution_count": 273,
      "outputs": []
    },
    {
      "cell_type": "markdown",
      "metadata": {
        "id": "0YbI4xIyo5hN",
        "colab_type": "text"
      },
      "source": [
        "Data Splitting"
      ]
    },
    {
      "cell_type": "code",
      "metadata": {
        "id": "GsP4j_qTo4Y6",
        "colab_type": "code",
        "colab": {}
      },
      "source": [
        "X = data['text'].values\n",
        "y = data['overall'].values\n",
        "\n",
        "X_train, X_test, y_train, y_test = train_test_split(X, y, test_size=0.2)"
      ],
      "execution_count": 316,
      "outputs": []
    },
    {
      "cell_type": "markdown",
      "metadata": {
        "id": "LCMJ3JxGoZFx",
        "colab_type": "text"
      },
      "source": [
        "### Standart Machine Learning Model\n"
      ]
    },
    {
      "cell_type": "code",
      "metadata": {
        "id": "UaV0pdEQpV25",
        "colab_type": "code",
        "colab": {
          "base_uri": "https://localhost:8080/",
          "height": 51
        },
        "outputId": "43d80841-0ea0-4d48-dac4-cf0c74078262"
      },
      "source": [
        "# feature extraction\n",
        "tv = TfidfVectorizer()\n",
        "tv_train = tv.fit_transform(X_train)\n",
        "tv_test = tv.transform(X_test)\n",
        "\n",
        "print(\"Tfidf train:\", tv_train.shape)\n",
        "print(\"Tfidf test:\", tv_test.shape)"
      ],
      "execution_count": 317,
      "outputs": [
        {
          "output_type": "stream",
          "text": [
            "Tfidf train: (8208, 15811)\n",
            "Tfidf test: (2053, 15811)\n"
          ],
          "name": "stdout"
        }
      ]
    },
    {
      "cell_type": "markdown",
      "metadata": {
        "id": "cWazydx3qgyG",
        "colab_type": "text"
      },
      "source": [
        "#### Logistic Regression Model"
      ]
    },
    {
      "cell_type": "code",
      "metadata": {
        "id": "i3Bptyk_qeEm",
        "colab_type": "code",
        "colab": {}
      },
      "source": [
        "lr = LogisticRegression(class_weight='balanced', max_iter=200)\n",
        "\n",
        "# fitting the model\n",
        "lr_model = lr.fit(tv_train, y_train)\n",
        "lr_predict = lr_model.predict(tv_test)"
      ],
      "execution_count": 318,
      "outputs": []
    },
    {
      "cell_type": "code",
      "metadata": {
        "id": "8svBZ3n7sQV-",
        "colab_type": "code",
        "colab": {
          "base_uri": "https://localhost:8080/",
          "height": 187
        },
        "outputId": "018fbba7-335c-4e1e-d01d-108cf3b8cea2"
      },
      "source": [
        "# model report\n",
        "lr_report = classification_report(y_test, lr_predict)\n",
        "\n",
        "print('lr original report:\\n', lr_report)"
      ],
      "execution_count": 319,
      "outputs": [
        {
          "output_type": "stream",
          "text": [
            "lr original report:\n",
            "               precision    recall  f1-score   support\n",
            "\n",
            "           0       0.44      0.77      0.56       245\n",
            "           1       0.96      0.87      0.91      1808\n",
            "\n",
            "    accuracy                           0.85      2053\n",
            "   macro avg       0.70      0.82      0.74      2053\n",
            "weighted avg       0.90      0.85      0.87      2053\n",
            "\n"
          ],
          "name": "stdout"
        }
      ]
    },
    {
      "cell_type": "markdown",
      "metadata": {
        "id": "avLoct1b0Wov",
        "colab_type": "text"
      },
      "source": [
        "#### Multinomial Naive Bayes "
      ]
    },
    {
      "cell_type": "code",
      "metadata": {
        "id": "ivgi2kFe0gpB",
        "colab_type": "code",
        "colab": {}
      },
      "source": [
        "mnb = MultinomialNB()\n",
        "\n",
        "# fitting the model\n",
        "mnb_model = mnb.fit(tv_train, y_train)\n",
        "mnb_predict = mnb_model.predict(tv_test)"
      ],
      "execution_count": 320,
      "outputs": []
    },
    {
      "cell_type": "code",
      "metadata": {
        "id": "mhhG0S5A06cP",
        "colab_type": "code",
        "colab": {
          "base_uri": "https://localhost:8080/",
          "height": 241
        },
        "outputId": "b880f368-eaf6-4c0e-af3f-d6a745fd22e8"
      },
      "source": [
        "# model report\n",
        "mnb_report = classification_report(y_test, nb_predict)\n",
        "print('naive bayes report:\\n', mnb_report)"
      ],
      "execution_count": 321,
      "outputs": [
        {
          "output_type": "stream",
          "text": [
            "naive bayes report:\n",
            "               precision    recall  f1-score   support\n",
            "\n",
            "           0       0.00      0.00      0.00       245\n",
            "           1       0.88      1.00      0.94      1808\n",
            "\n",
            "    accuracy                           0.88      2053\n",
            "   macro avg       0.44      0.50      0.47      2053\n",
            "weighted avg       0.78      0.88      0.82      2053\n",
            "\n"
          ],
          "name": "stdout"
        },
        {
          "output_type": "stream",
          "text": [
            "/usr/local/lib/python3.6/dist-packages/sklearn/metrics/_classification.py:1272: UndefinedMetricWarning: Precision and F-score are ill-defined and being set to 0.0 in labels with no predicted samples. Use `zero_division` parameter to control this behavior.\n",
            "  _warn_prf(average, modifier, msg_start, len(result))\n"
          ],
          "name": "stderr"
        }
      ]
    },
    {
      "cell_type": "markdown",
      "metadata": {
        "id": "-NXND8XQLSMM",
        "colab_type": "text"
      },
      "source": [
        "#### Tree-based method (Random Forest)"
      ]
    },
    {
      "cell_type": "markdown",
      "metadata": {
        "id": "ROpEkUsFMHuo",
        "colab_type": "text"
      },
      "source": [
        "Model fitting"
      ]
    },
    {
      "cell_type": "code",
      "metadata": {
        "id": "fwNcjS_ILZPu",
        "colab_type": "code",
        "colab": {}
      },
      "source": [
        "rfc = RandomForestClassifier(n_estimators=200)\n",
        "\n",
        "# fitting the model\n",
        "rfc_model = rfc.fit(tv_train, y_train)\n",
        "rfc_predict = rfc_model.predict(tv_test)"
      ],
      "execution_count": 323,
      "outputs": []
    },
    {
      "cell_type": "markdown",
      "metadata": {
        "id": "j-shatcvMMKj",
        "colab_type": "text"
      },
      "source": [
        "Classification report"
      ]
    },
    {
      "cell_type": "code",
      "metadata": {
        "id": "OUkEJkCZMLp6",
        "colab_type": "code",
        "colab": {
          "base_uri": "https://localhost:8080/",
          "height": 187
        },
        "outputId": "2dbf5ba6-9824-49ee-a518-845a60035d01"
      },
      "source": [
        "# model report\n",
        "rfc_report = classification_report(y_test, rfc_predict)\n",
        "print('random forest classifier results report:\\n', rfc_report)"
      ],
      "execution_count": 324,
      "outputs": [
        {
          "output_type": "stream",
          "text": [
            "random forest classifier results report:\n",
            "               precision    recall  f1-score   support\n",
            "\n",
            "           0       0.75      0.01      0.02       245\n",
            "           1       0.88      1.00      0.94      1808\n",
            "\n",
            "    accuracy                           0.88      2053\n",
            "   macro avg       0.82      0.51      0.48      2053\n",
            "weighted avg       0.87      0.88      0.83      2053\n",
            "\n"
          ],
          "name": "stdout"
        }
      ]
    },
    {
      "cell_type": "markdown",
      "metadata": {
        "id": "T4qvGV3G_J2U",
        "colab_type": "text"
      },
      "source": [
        "### Deep Learning (Keras)"
      ]
    },
    {
      "cell_type": "code",
      "metadata": {
        "id": "MJ6VKAkh8R4J",
        "colab_type": "code",
        "colab": {}
      },
      "source": [
        "NUM_OF_WORDS = 15000\n",
        "EMBEDDING_DIM = 16\n",
        "\n",
        "tokenizer = Tokenizer(num_words=NUM_OF_WORDS, oov_token='x')\n",
        "\n",
        "tokenizer.fit_on_texts(X_train)\n",
        "\n",
        "sequences_train = tokenizer.texts_to_sequences(X_train)\n",
        "sequences_test = tokenizer.texts_to_sequences(X_test)\n",
        "\n",
        "padded_train = pad_sequences(sequences_train)\n",
        "padded_test = pad_sequences(sequences_test)"
      ],
      "execution_count": 325,
      "outputs": []
    },
    {
      "cell_type": "code",
      "metadata": {
        "id": "tf9Ob2yCShY2",
        "colab_type": "code",
        "colab": {
          "base_uri": "https://localhost:8080/",
          "height": 71
        },
        "outputId": "b2ed12be-ae7f-4f3b-e81b-9f00ba4e0c47"
      },
      "source": [
        "#resampling strategy\n",
        "from imblearn.over_sampling import SMOTE\n",
        "smote = SMOTE('minority')\n",
        "\n",
        "padded_sm, y_sm = smote.fit_sample(padded_train, y_train)"
      ],
      "execution_count": 326,
      "outputs": [
        {
          "output_type": "stream",
          "text": [
            "/usr/local/lib/python3.6/dist-packages/sklearn/utils/deprecation.py:87: FutureWarning: Function safe_indexing is deprecated; safe_indexing is deprecated in version 0.22 and will be removed in version 0.24.\n",
            "  warnings.warn(msg, category=FutureWarning)\n"
          ],
          "name": "stderr"
        }
      ]
    },
    {
      "cell_type": "code",
      "metadata": {
        "id": "h27-bnt6-TXW",
        "colab_type": "code",
        "colab": {}
      },
      "source": [
        "# create model architecture\n",
        "\n",
        "def build_model():\n",
        "  model = Sequential(\n",
        "      [\n",
        "      layers.Embedding(input_dim=NUM_OF_WORDS ,output_dim=EMBEDDING_DIM),\n",
        "      layers.GlobalAveragePooling1D(),\n",
        "      layers.Dense(32, activation='relu'),\n",
        "      layers.Dense(16, activation='relu'),\n",
        "      layers.Dense(1, activation='sigmoid')\n",
        "      ]\n",
        "  )\n",
        "  \n",
        "  #compile the model\n",
        "  model.compile(optimizer='adam',\n",
        "              loss='binary_crossentropy',\n",
        "              metrics=['accuracy', keras.metrics.AUC()])\n",
        "  return model\n",
        "\n",
        "keras_model = build_model()"
      ],
      "execution_count": 334,
      "outputs": []
    },
    {
      "cell_type": "code",
      "metadata": {
        "id": "njp0eYLDZxDc",
        "colab_type": "code",
        "colab": {}
      },
      "source": [
        "# model callbacks\n",
        "class ModelCallbacks(keras.callbacks.Callback):\n",
        "  def on_epoch_end(self, epoch, logs={}):\n",
        "    if((logs.get('accuracy') > 0.9) and (logs.get('val_accuracy')>0.9)):\n",
        "      print('\\naccuracy has been reached more than 90%')\n",
        "      self.model.stop_training = True\n",
        "\n",
        "callbacks = ModelCallbacks()"
      ],
      "execution_count": 329,
      "outputs": []
    },
    {
      "cell_type": "code",
      "metadata": {
        "id": "lo3bnemOIolK",
        "colab_type": "code",
        "colab": {
          "base_uri": "https://localhost:8080/",
          "height": 1000
        },
        "outputId": "68aaa272-6897-4f6f-a4ef-78fed72a8c84"
      },
      "source": [
        "# fit the model\n",
        "num_epochs = 100\n",
        "batch_size = 64\n",
        "history = keras_model.fit(padded_sm,\n",
        "          y_sm,\n",
        "          epochs=num_epochs,\n",
        "          batch_size = batch_size,\n",
        "          validation_split=0.3,\n",
        "          callbacks=[callbacks])"
      ],
      "execution_count": 335,
      "outputs": [
        {
          "output_type": "stream",
          "text": [
            "Epoch 1/100\n",
            "158/158 [==============================] - 2s 14ms/step - loss: 0.6154 - accuracy: 0.7112 - auc_6: 0.5146 - val_loss: 1.1869 - val_accuracy: 0.0000e+00 - val_auc_6: 0.0000e+00\n",
            "Epoch 2/100\n",
            "158/158 [==============================] - 2s 13ms/step - loss: 0.5967 - accuracy: 0.7143 - auc_6: 0.5367 - val_loss: 1.2769 - val_accuracy: 0.0000e+00 - val_auc_6: 0.0000e+00\n",
            "Epoch 3/100\n",
            "158/158 [==============================] - 2s 12ms/step - loss: 0.5946 - accuracy: 0.7143 - auc_6: 0.5582 - val_loss: 1.1922 - val_accuracy: 4.6200e-04 - val_auc_6: 0.0000e+00\n",
            "Epoch 4/100\n",
            "158/158 [==============================] - 2s 13ms/step - loss: 0.5904 - accuracy: 0.7153 - auc_6: 0.5888 - val_loss: 1.3428 - val_accuracy: 0.0079 - val_auc_6: 0.0000e+00\n",
            "Epoch 5/100\n",
            "158/158 [==============================] - 2s 13ms/step - loss: 0.5804 - accuracy: 0.7179 - auc_6: 0.6487 - val_loss: 1.2967 - val_accuracy: 0.0372 - val_auc_6: 0.0000e+00\n",
            "Epoch 6/100\n",
            "158/158 [==============================] - 2s 13ms/step - loss: 0.5478 - accuracy: 0.7337 - auc_6: 0.7472 - val_loss: 0.8560 - val_accuracy: 0.2227 - val_auc_6: 0.0000e+00\n",
            "Epoch 7/100\n",
            "158/158 [==============================] - 2s 13ms/step - loss: 0.4788 - accuracy: 0.7693 - auc_6: 0.8497 - val_loss: 0.7693 - val_accuracy: 0.3964 - val_auc_6: 0.0000e+00\n",
            "Epoch 8/100\n",
            "158/158 [==============================] - 2s 13ms/step - loss: 0.4016 - accuracy: 0.8212 - auc_6: 0.8997 - val_loss: 0.8843 - val_accuracy: 0.4126 - val_auc_6: 0.0000e+00\n",
            "Epoch 9/100\n",
            "158/158 [==============================] - 2s 12ms/step - loss: 0.3459 - accuracy: 0.8543 - auc_6: 0.9223 - val_loss: 0.7640 - val_accuracy: 0.5244 - val_auc_6: 0.0000e+00\n",
            "Epoch 10/100\n",
            "158/158 [==============================] - 2s 13ms/step - loss: 0.3104 - accuracy: 0.8728 - auc_6: 0.9317 - val_loss: 0.6058 - val_accuracy: 0.6318 - val_auc_6: 0.0000e+00\n",
            "Epoch 11/100\n",
            "158/158 [==============================] - 2s 13ms/step - loss: 0.2917 - accuracy: 0.8804 - auc_6: 0.9357 - val_loss: 0.4733 - val_accuracy: 0.7309 - val_auc_6: 0.0000e+00\n",
            "Epoch 12/100\n",
            "158/158 [==============================] - 2s 13ms/step - loss: 0.2731 - accuracy: 0.8882 - auc_6: 0.9427 - val_loss: 0.4318 - val_accuracy: 0.7605 - val_auc_6: 0.0000e+00\n",
            "Epoch 13/100\n",
            "158/158 [==============================] - 2s 13ms/step - loss: 0.2513 - accuracy: 0.8990 - auc_6: 0.9534 - val_loss: 0.3392 - val_accuracy: 0.8265 - val_auc_6: 0.0000e+00\n",
            "Epoch 14/100\n",
            "158/158 [==============================] - 2s 13ms/step - loss: 0.2325 - accuracy: 0.9070 - auc_6: 0.9603 - val_loss: 0.4738 - val_accuracy: 0.7480 - val_auc_6: 0.0000e+00\n",
            "Epoch 15/100\n",
            "158/158 [==============================] - 2s 12ms/step - loss: 0.2195 - accuracy: 0.9128 - auc_6: 0.9644 - val_loss: 0.4231 - val_accuracy: 0.7787 - val_auc_6: 0.0000e+00\n",
            "Epoch 16/100\n",
            "158/158 [==============================] - 2s 13ms/step - loss: 0.2243 - accuracy: 0.9107 - auc_6: 0.9591 - val_loss: 0.3426 - val_accuracy: 0.8267 - val_auc_6: 0.0000e+00\n",
            "Epoch 17/100\n",
            "158/158 [==============================] - 2s 12ms/step - loss: 0.1998 - accuracy: 0.9223 - auc_6: 0.9700 - val_loss: 0.2408 - val_accuracy: 0.8907 - val_auc_6: 0.0000e+00\n",
            "Epoch 18/100\n",
            "158/158 [==============================] - 2s 13ms/step - loss: 0.1953 - accuracy: 0.9217 - auc_6: 0.9702 - val_loss: 0.4171 - val_accuracy: 0.7953 - val_auc_6: 0.0000e+00\n",
            "Epoch 19/100\n",
            "158/158 [==============================] - 2s 13ms/step - loss: 0.1833 - accuracy: 0.9311 - auc_6: 0.9744 - val_loss: 0.2975 - val_accuracy: 0.8572 - val_auc_6: 0.0000e+00\n",
            "Epoch 20/100\n",
            "158/158 [==============================] - 2s 13ms/step - loss: 0.1730 - accuracy: 0.9352 - auc_6: 0.9772 - val_loss: 0.3520 - val_accuracy: 0.8307 - val_auc_6: 0.0000e+00\n",
            "Epoch 21/100\n",
            "158/158 [==============================] - 2s 13ms/step - loss: 0.1677 - accuracy: 0.9354 - auc_6: 0.9785 - val_loss: 0.3415 - val_accuracy: 0.8369 - val_auc_6: 0.0000e+00\n",
            "Epoch 22/100\n",
            "158/158 [==============================] - 2s 13ms/step - loss: 0.1635 - accuracy: 0.9384 - auc_6: 0.9791 - val_loss: 0.4025 - val_accuracy: 0.8136 - val_auc_6: 0.0000e+00\n",
            "Epoch 23/100\n",
            "158/158 [==============================] - 2s 13ms/step - loss: 0.1586 - accuracy: 0.9415 - auc_6: 0.9800 - val_loss: 0.4044 - val_accuracy: 0.8145 - val_auc_6: 0.0000e+00\n",
            "Epoch 24/100\n",
            "158/158 [==============================] - 2s 13ms/step - loss: 0.1492 - accuracy: 0.9457 - auc_6: 0.9829 - val_loss: 0.3654 - val_accuracy: 0.8346 - val_auc_6: 0.0000e+00\n",
            "Epoch 25/100\n",
            "158/158 [==============================] - 2s 12ms/step - loss: 0.1424 - accuracy: 0.9459 - auc_6: 0.9846 - val_loss: 0.3232 - val_accuracy: 0.8552 - val_auc_6: 0.0000e+00\n",
            "Epoch 26/100\n",
            "158/158 [==============================] - 2s 13ms/step - loss: 0.1379 - accuracy: 0.9480 - auc_6: 0.9852 - val_loss: 0.3215 - val_accuracy: 0.8589 - val_auc_6: 0.0000e+00\n",
            "Epoch 27/100\n",
            "158/158 [==============================] - 2s 12ms/step - loss: 0.1353 - accuracy: 0.9502 - auc_6: 0.9854 - val_loss: 0.7317 - val_accuracy: 0.7297 - val_auc_6: 0.0000e+00\n",
            "Epoch 28/100\n",
            "158/158 [==============================] - 2s 12ms/step - loss: 0.1333 - accuracy: 0.9518 - auc_6: 0.9859 - val_loss: 0.3892 - val_accuracy: 0.8365 - val_auc_6: 0.0000e+00\n",
            "Epoch 29/100\n",
            "158/158 [==============================] - 2s 13ms/step - loss: 0.1237 - accuracy: 0.9543 - auc_6: 0.9885 - val_loss: 0.4352 - val_accuracy: 0.8191 - val_auc_6: 0.0000e+00\n",
            "Epoch 30/100\n",
            "158/158 [==============================] - 2s 13ms/step - loss: 0.1198 - accuracy: 0.9563 - auc_6: 0.9891 - val_loss: 0.3000 - val_accuracy: 0.8746 - val_auc_6: 0.0000e+00\n",
            "Epoch 31/100\n",
            "158/158 [==============================] - 2s 13ms/step - loss: 0.1143 - accuracy: 0.9599 - auc_6: 0.9899 - val_loss: 0.4427 - val_accuracy: 0.8226 - val_auc_6: 0.0000e+00\n",
            "Epoch 32/100\n",
            "157/158 [============================>.] - ETA: 0s - loss: 0.1148 - accuracy: 0.9588 - auc_6: 0.9894\n",
            "accuracy has been reached more than 90%\n",
            "158/158 [==============================] - 2s 13ms/step - loss: 0.1148 - accuracy: 0.9588 - auc_6: 0.9895 - val_loss: 0.2017 - val_accuracy: 0.9205 - val_auc_6: 0.0000e+00\n"
          ],
          "name": "stdout"
        }
      ]
    },
    {
      "cell_type": "code",
      "metadata": {
        "id": "iuKpgshXVJOi",
        "colab_type": "code",
        "colab": {
          "base_uri": "https://localhost:8080/",
          "height": 68
        },
        "outputId": "f60f3e09-1755-4aa3-f5b2-bea3b1b2c209"
      },
      "source": [
        "# evaluate the model\n",
        "keras_predict = keras_model.predict(padded_test).ravel()\n",
        "score, acc, auc = keras_model.evaluate(padded_test, y_test)\n",
        "txt ='Accuracy: {}\\nAUC: {}'\n",
        "print(txt.format(acc, auc))"
      ],
      "execution_count": 336,
      "outputs": [
        {
          "output_type": "stream",
          "text": [
            "65/65 [==============================] - 0s 4ms/step - loss: 0.5088 - accuracy: 0.8544 - auc_6: 0.8039\n",
            "Accuracy: 0.8543594479560852\n",
            "AUC: 0.8039055466651917\n"
          ],
          "name": "stdout"
        }
      ]
    },
    {
      "cell_type": "markdown",
      "metadata": {
        "id": "JdrrGMwPt44B",
        "colab_type": "text"
      },
      "source": [
        "### Metric evaluation (ROC)"
      ]
    },
    {
      "cell_type": "code",
      "metadata": {
        "id": "rpsmRm-eiYJW",
        "colab_type": "code",
        "colab": {
          "base_uri": "https://localhost:8080/",
          "height": 295
        },
        "outputId": "b34716c9-a92f-4a6a-d7bb-03c3bb27c98c"
      },
      "source": [
        "# ROC metrics\n",
        "fpr_keras, tpr_keras, thresholds = roc_curve(y_test, keras_predict) #Keras\n",
        "fpr_rf, tpr_rf, thresholds = roc_curve(y_test, rfc_predict) #RandomForest\n",
        "fpr_lr, tpr_lr, thresholds = roc_curve(y_test, lr_predict) #LogisticRegression\n",
        "fpr_mnb, tpr_mnb, thresholds = roc_curve(y_test, mnb_predict) #MultinomialNB\n",
        "\n",
        "# AUC\n",
        "auc_keras = auc(fpr_keras, tpr_keras)\n",
        "auc_rf = auc(fpr_rf, tpr_rf)\n",
        "auc_lr = auc(fpr_lr, tpr_lr)\n",
        "auc_mnb = auc(fpr_mnb, tpr_mnb)\n",
        "\n",
        "# plotting\n",
        "plt.figure(1)\n",
        "plt.plot([0, 1], [0, 1], 'k--')\n",
        "plt.plot(fpr_keras, tpr_keras, label='Keras (area = {:.3f})'.format(auc_keras))\n",
        "plt.plot(fpr_rf, tpr_rf, label='RF (area = {:.3f})'.format(auc_rf))\n",
        "plt.plot(fpr_lr, tpr_lr, label='LR (area = {:.3f})'.format(auc_lr))\n",
        "plt.plot(fpr_mnb, tpr_mnb, label='MNB (area = {:.3f})'.format(auc_mnb))\n",
        "plt.xlabel('False positive rate')\n",
        "plt.ylabel('True positive rate')\n",
        "plt.title('ROC curve')\n",
        "plt.legend(loc='best')\n",
        "plt.show()"
      ],
      "execution_count": 342,
      "outputs": [
        {
          "output_type": "display_data",
          "data": {
            "image/png": "[encoded data removed]",
            "text/plain": [
              "<Figure size 432x288 with 1 Axes>"
            ]
          },
          "metadata": {
            "tags": [],
            "needs_background": "light"
          }
        }
      ]
    }
  ]
}