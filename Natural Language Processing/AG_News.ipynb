{
  "nbformat": 4,
  "nbformat_minor": 0,
  "metadata": {
    "colab": {
      "name": "Natural Language Processing.ipynb",
      "provenance": [],
      "collapsed_sections": []
    },
    "kernelspec": {
      "name": "python3",
      "display_name": "Python 3"
    }
  },
  "cells": [
    {
      "cell_type": "markdown",
      "metadata": {
        "id": "IvfVA1D9KzF_",
        "colab_type": "text"
      },
      "source": [
        "# Natural Processing Language (AG News)"
      ]
    },
    {
      "cell_type": "markdown",
      "metadata": {
        "id": "_sTEg-_oK-nQ",
        "colab_type": "text"
      },
      "source": [
        "## Content\n",
        "\n"
      ]
    },
    {
      "cell_type": "markdown",
      "metadata": {
        "id": "MY2VcZSiLDVN",
        "colab_type": "text"
      },
      "source": [
        "Pada submission pertama ini, terdapat tugas yang harus diselesaikan yaitu membuat model klasifikasi teks (Natural Language Processing - NLP). Konten yang terdapat pada notebook ini yaitu sebagai berikut:\n",
        "\n",
        "*  Persiapan data.\n",
        "*  Text Pre-processing.\n",
        "*  Splitting data menjadi data latih dan data test.\n",
        "*  Pembuatan arsitektur model (LSTM).\n",
        "*  Visualisasi akurasi dan loss dari model.\n",
        "*  Kesimpulan. \n",
        "\n",
        "Sumber dataset yang digunakan: https://www.kaggle.com/amananandrai/ag-news-classification-dataset?select=train.csv"
      ]
    },
    {
      "cell_type": "code",
      "metadata": {
        "id": "DRhxpLtqQZvx",
        "colab_type": "code",
        "colab": {}
      },
      "source": [
        "# import library yang dibutuhkan pada project\n",
        "import re\n",
        "import pandas as pd\n",
        "import tensorflow as tf\n",
        "import matplotlib.pyplot as plt\n",
        "\n",
        "# model_selection\n",
        "from sklearn.model_selection import train_test_split\n",
        "\n",
        "# text preprocessing\n",
        "from tensorflow.keras.preprocessing.text import Tokenizer\n",
        "from tensorflow.keras.preprocessing.sequence import pad_sequences\n",
        "\n",
        "from tensorflow.keras import Sequential\n",
        "\n",
        "from tensorflow.keras.layers import Embedding\n",
        "from tensorflow.keras.layers import LSTM\n",
        "from tensorflow.keras.layers import Flatten\n",
        "from tensorflow.keras.layers import Dense\n",
        "from tensorflow.keras.layers import Dropout"
      ],
      "execution_count": null,
      "outputs": []
    },
    {
      "cell_type": "markdown",
      "metadata": {
        "id": "rOu8pS_yMWpM",
        "colab_type": "text"
      },
      "source": [
        "### Persiapan data"
      ]
    },
    {
      "cell_type": "markdown",
      "metadata": {
        "id": "mEDurXPYUTyb",
        "colab_type": "text"
      },
      "source": [
        "Dikarenakan saya menggunakan google colab, jadi saya meng-copy file dari google drive ke google colab VM. Persiapan data ini bisa disesuaikan dengan metode lain. "
      ]
    },
    {
      "cell_type": "code",
      "metadata": {
        "id": "AWUHSS6DNI37",
        "colab_type": "code",
        "colab": {
          "base_uri": "https://localhost:8080/",
          "height": 54
        },
        "outputId": "b00f0e6e-0387-4b42-ce8f-48c7978bae95"
      },
      "source": [
        "# mount google drive\n",
        "from google.colab import drive\n",
        "drive.mount('/content/drive')\n"
      ],
      "execution_count": null,
      "outputs": [
        {
          "output_type": "stream",
          "text": [
            "Drive already mounted at /content/drive; to attempt to forcibly remount, call drive.mount(\"/content/drive\", force_remount=True).\n"
          ],
          "name": "stdout"
        }
      ]
    },
    {
      "cell_type": "code",
      "metadata": {
        "id": "a8iYKt2k-uDr",
        "colab_type": "code",
        "colab": {}
      },
      "source": [
        "# copy file zip ke google colab VM\n",
        "%cp \"/content/drive/My Drive/Dataset/AG_News.zip\" \"AG_News.zip\""
      ],
      "execution_count": null,
      "outputs": []
    },
    {
      "cell_type": "code",
      "metadata": {
        "id": "h7T_h_hmTVFc",
        "colab_type": "code",
        "colab": {
          "base_uri": "https://localhost:8080/",
          "height": 34
        },
        "outputId": "62dadd84-a9f6-4796-91b6-3d9bc8766542"
      },
      "source": [
        "%ls"
      ],
      "execution_count": null,
      "outputs": [
        {
          "output_type": "stream",
          "text": [
            "AG_News.zip  drive  sample_data  sentiment_detection.zip\n"
          ],
          "name": "stdout"
        }
      ]
    },
    {
      "cell_type": "code",
      "metadata": {
        "id": "SMO3JBsAJ3Ga",
        "colab_type": "code",
        "colab": {}
      },
      "source": [
        "# unzip file\n",
        "from zipfile import ZipFile\n",
        "local_zip = 'AG_News.zip'\n",
        "zip_ref = ZipFile(local_zip, 'r')\n",
        "zip_ref.extractall('/content')\n",
        "zip_ref.close()\n"
      ],
      "execution_count": null,
      "outputs": []
    },
    {
      "cell_type": "code",
      "metadata": {
        "id": "atlzdOgYThgi",
        "colab_type": "code",
        "colab": {
          "base_uri": "https://localhost:8080/",
          "height": 204
        },
        "outputId": "0e7fc2e4-2a8d-46f2-a5d2-692a2d63d42c"
      },
      "source": [
        "# membaca file train.csv \n",
        "train = pd.read_csv('/content/train.csv')\n",
        "# pandas: membaca file test.csv\n",
        "test = pd.read_csv('/content/test.csv')\n",
        "\n",
        "#menggabungkan train data test data\n",
        "df = pd.concat([train, test], axis=0)\n",
        "\n",
        "df.head()"
      ],
      "execution_count": null,
      "outputs": [
        {
          "output_type": "execute_result",
          "data": {
            "text/html": [
              "<div>\n",
              "<style scoped>\n",
              "    .dataframe tbody tr th:only-of-type {\n",
              "        vertical-align: middle;\n",
              "    }\n",
              "\n",
              "    .dataframe tbody tr th {\n",
              "        vertical-align: top;\n",
              "    }\n",
              "\n",
              "    .dataframe thead th {\n",
              "        text-align: right;\n",
              "    }\n",
              "</style>\n",
              "<table border=\"1\" class=\"dataframe\">\n",
              "  <thead>\n",
              "    <tr style=\"text-align: right;\">\n",
              "      <th></th>\n",
              "      <th>Class Index</th>\n",
              "      <th>Title</th>\n",
              "      <th>Description</th>\n",
              "    </tr>\n",
              "  </thead>\n",
              "  <tbody>\n",
              "    <tr>\n",
              "      <th>0</th>\n",
              "      <td>3</td>\n",
              "      <td>Wall St. Bears Claw Back Into the Black (Reuters)</td>\n",
              "      <td>Reuters - Short-sellers, Wall Street's dwindli...</td>\n",
              "    </tr>\n",
              "    <tr>\n",
              "      <th>1</th>\n",
              "      <td>3</td>\n",
              "      <td>Carlyle Looks Toward Commercial Aerospace (Reu...</td>\n",
              "      <td>Reuters - Private investment firm Carlyle Grou...</td>\n",
              "    </tr>\n",
              "    <tr>\n",
              "      <th>2</th>\n",
              "      <td>3</td>\n",
              "      <td>Oil and Economy Cloud Stocks' Outlook (Reuters)</td>\n",
              "      <td>Reuters - Soaring crude prices plus worries\\ab...</td>\n",
              "    </tr>\n",
              "    <tr>\n",
              "      <th>3</th>\n",
              "      <td>3</td>\n",
              "      <td>Iraq Halts Oil Exports from Main Southern Pipe...</td>\n",
              "      <td>Reuters - Authorities have halted oil export\\f...</td>\n",
              "    </tr>\n",
              "    <tr>\n",
              "      <th>4</th>\n",
              "      <td>3</td>\n",
              "      <td>Oil prices soar to all-time record, posing new...</td>\n",
              "      <td>AFP - Tearaway world oil prices, toppling reco...</td>\n",
              "    </tr>\n",
              "  </tbody>\n",
              "</table>\n",
              "</div>"
            ],
            "text/plain": [
              "   Class Index  ...                                        Description\n",
              "0            3  ...  Reuters - Short-sellers, Wall Street's dwindli...\n",
              "1            3  ...  Reuters - Private investment firm Carlyle Grou...\n",
              "2            3  ...  Reuters - Soaring crude prices plus worries\\ab...\n",
              "3            3  ...  Reuters - Authorities have halted oil export\\f...\n",
              "4            3  ...  AFP - Tearaway world oil prices, toppling reco...\n",
              "\n",
              "[5 rows x 3 columns]"
            ]
          },
          "metadata": {
            "tags": []
          },
          "execution_count": 124
        }
      ]
    },
    {
      "cell_type": "code",
      "metadata": {
        "id": "DPzQU0dRAwlg",
        "colab_type": "code",
        "colab": {
          "base_uri": "https://localhost:8080/",
          "height": 221
        },
        "outputId": "3b49a144-a7aa-40df-9296-eea2dce2c532"
      },
      "source": [
        "def change_class(df):\n",
        "  \"\"\" \n",
        "    Ubah nilai pada kolom Class Index\n",
        "    Class Index terdiri dari 4 nomor yakni:\n",
        "    1 merepresentasikan World, \n",
        "    2 merepresentasikan Sports, \n",
        "    3 merepresentasikan Business \n",
        "    4 merepresentasikan Sci/Tech. \n",
        "\n",
        "    df: pandas Series\n",
        "  \"\"\"\n",
        "  df.replace({1: \"World\", \n",
        "              2: \"Sports\",\n",
        "              3: \"Business\",\n",
        "              4: \"Sci/Tech\"}, inplace=True)\n",
        "  \n",
        "  return df\n",
        "\n",
        "change_class(df['Class Index'])"
      ],
      "execution_count": null,
      "outputs": [
        {
          "output_type": "execute_result",
          "data": {
            "text/plain": [
              "0       Business\n",
              "1       Business\n",
              "2       Business\n",
              "3       Business\n",
              "4       Business\n",
              "          ...   \n",
              "7595       World\n",
              "7596      Sports\n",
              "7597      Sports\n",
              "7598    Business\n",
              "7599    Business\n",
              "Name: Class Index, Length: 127600, dtype: object"
            ]
          },
          "metadata": {
            "tags": []
          },
          "execution_count": 126
        }
      ]
    },
    {
      "cell_type": "code",
      "metadata": {
        "id": "yO5SW1qHDvw8",
        "colab_type": "code",
        "colab": {
          "base_uri": "https://localhost:8080/",
          "height": 119
        },
        "outputId": "4a8fb290-e089-4bda-b407-3ecaa851e532"
      },
      "source": [
        "# Cek jumlah nilai dari masing-masing kelas\n",
        "print('value count of class\\n{}'.format(df['Class Index'].value_counts()))"
      ],
      "execution_count": null,
      "outputs": [
        {
          "output_type": "stream",
          "text": [
            "value count of class\n",
            "World       31900\n",
            "Sci/Tech    31900\n",
            "Business    31900\n",
            "Sports      31900\n",
            "Name: Class Index, dtype: int64\n"
          ],
          "name": "stdout"
        }
      ]
    },
    {
      "cell_type": "markdown",
      "metadata": {
        "id": "yHJJpPY8AKXL",
        "colab_type": "text"
      },
      "source": [
        "### Text Preprocessing"
      ]
    },
    {
      "cell_type": "code",
      "metadata": {
        "id": "3mjnN5hh-UTu",
        "colab_type": "code",
        "colab": {
          "base_uri": "https://localhost:8080/",
          "height": 71
        },
        "outputId": "6c10755a-2cf7-4af6-f46f-a40d09576763"
      },
      "source": [
        "# fungsi untuk mengetahui salah satu deskripsi teks\n",
        "def print_plot(index):\n",
        "  example = df[df.index == index][['Description', 'Class Index']].values[0]\n",
        "  if len(example[0]):\n",
        "    print(example[0])\n",
        "    print('Class Index:', example[1])\n",
        "\n",
        "print_plot(5)"
      ],
      "execution_count": null,
      "outputs": [
        {
          "output_type": "stream",
          "text": [
            "Reuters - Stocks ended slightly higher on Friday\\but stayed near lows for the year as oil prices surged past  #36;46\\a barrel, offsetting a positive outlook from computer maker\\Dell Inc. (DELL.O)\n",
            "Class Index: Business\n"
          ],
          "name": "stdout"
        }
      ]
    },
    {
      "cell_type": "markdown",
      "metadata": {
        "id": "vWoMpqvdGQ4r",
        "colab_type": "text"
      },
      "source": [
        "Terlihat dari sampel title bahwa kata-kata masih mengandung simbol. Berikut text preprocessing yang akan dilakukan untuk membersihkan text yang ada pada column deskripsi:\n",
        "* Ubah menjadi text lowercase\n",
        "* Subtitusi simbol dengan spasi\n",
        "* Menghapus simbol yang berada pada variabel BAD_SYMBOLS_RE dari desripksi"
      ]
    },
    {
      "cell_type": "code",
      "metadata": {
        "id": "7lKaZIJPGPY7",
        "colab_type": "code",
        "colab": {}
      },
      "source": [
        "\n",
        "# menggunakan regular expression untuk membuat pattern simbol yang akan diubah\n",
        "REPLACE_BY_SPACE_RE = re.compile('[/(){}\\[\\]\\|@,;]')\n",
        "BAD_SYMBOLS_RE = re.compile('[^0-9a-z #+_]')\n",
        "\n",
        "def clean_text(text):\n",
        "  \"\"\"\n",
        "    text: string\n",
        "\n",
        "    return: string yang sudah dimodifikasi\n",
        "  \"\"\"\n",
        "\n",
        "  text = text.lower() #ubah teks ke bentuk lowercase\n",
        "  text = REPLACE_BY_SPACE_RE.sub(' ', text) #substitusi simbol text yang sesuai dari REPLACE_BY_SPACE_RE menjadi spasi \n",
        "  text = BAD_SYMBOLS_RE.sub('', text) #substitusi simbol text yang sesuai dari BAD_SYMBOLS_RE menjadi kosong\n",
        "\n",
        "  return text\n",
        "\n",
        "df['Description'] = df['Description'].apply(clean_text) "
      ],
      "execution_count": null,
      "outputs": []
    },
    {
      "cell_type": "code",
      "metadata": {
        "id": "7rAU5njzV08p",
        "colab_type": "code",
        "colab": {
          "base_uri": "https://localhost:8080/",
          "height": 204
        },
        "outputId": "4bed4f54-f42c-4935-ba33-f9068b56ea4f"
      },
      "source": [
        "# one hot encoding untuk kategorial kolom \n",
        "category = pd.get_dummies(df['Class Index'])\n",
        "\n",
        "# menggabungkan category dengan data frame\n",
        "new_df = pd.concat([df, category], axis=1)\n",
        "\n",
        "# drop kolom yang tidak tidak butuhkan \n",
        "new_df = new_df.drop(columns=['Title', 'Class Index'])\n",
        "\n",
        "new_df.head(5)"
      ],
      "execution_count": null,
      "outputs": [
        {
          "output_type": "execute_result",
          "data": {
            "text/html": [
              "<div>\n",
              "<style scoped>\n",
              "    .dataframe tbody tr th:only-of-type {\n",
              "        vertical-align: middle;\n",
              "    }\n",
              "\n",
              "    .dataframe tbody tr th {\n",
              "        vertical-align: top;\n",
              "    }\n",
              "\n",
              "    .dataframe thead th {\n",
              "        text-align: right;\n",
              "    }\n",
              "</style>\n",
              "<table border=\"1\" class=\"dataframe\">\n",
              "  <thead>\n",
              "    <tr style=\"text-align: right;\">\n",
              "      <th></th>\n",
              "      <th>Description</th>\n",
              "      <th>Business</th>\n",
              "      <th>Sci/Tech</th>\n",
              "      <th>Sports</th>\n",
              "      <th>World</th>\n",
              "    </tr>\n",
              "  </thead>\n",
              "  <tbody>\n",
              "    <tr>\n",
              "      <th>0</th>\n",
              "      <td>reuters  shortsellers  wall streets dwindlingb...</td>\n",
              "      <td>1</td>\n",
              "      <td>0</td>\n",
              "      <td>0</td>\n",
              "      <td>0</td>\n",
              "    </tr>\n",
              "    <tr>\n",
              "      <th>1</th>\n",
              "      <td>reuters  private investment firm carlyle group...</td>\n",
              "      <td>1</td>\n",
              "      <td>0</td>\n",
              "      <td>0</td>\n",
              "      <td>0</td>\n",
              "    </tr>\n",
              "    <tr>\n",
              "      <th>2</th>\n",
              "      <td>reuters  soaring crude prices plus worriesabou...</td>\n",
              "      <td>1</td>\n",
              "      <td>0</td>\n",
              "      <td>0</td>\n",
              "      <td>0</td>\n",
              "    </tr>\n",
              "    <tr>\n",
              "      <th>3</th>\n",
              "      <td>reuters  authorities have halted oil exportflo...</td>\n",
              "      <td>1</td>\n",
              "      <td>0</td>\n",
              "      <td>0</td>\n",
              "      <td>0</td>\n",
              "    </tr>\n",
              "    <tr>\n",
              "      <th>4</th>\n",
              "      <td>afp  tearaway world oil prices  toppling recor...</td>\n",
              "      <td>1</td>\n",
              "      <td>0</td>\n",
              "      <td>0</td>\n",
              "      <td>0</td>\n",
              "    </tr>\n",
              "  </tbody>\n",
              "</table>\n",
              "</div>"
            ],
            "text/plain": [
              "                                         Description  Business  ...  Sports  World\n",
              "0  reuters  shortsellers  wall streets dwindlingb...         1  ...       0      0\n",
              "1  reuters  private investment firm carlyle group...         1  ...       0      0\n",
              "2  reuters  soaring crude prices plus worriesabou...         1  ...       0      0\n",
              "3  reuters  authorities have halted oil exportflo...         1  ...       0      0\n",
              "4  afp  tearaway world oil prices  toppling recor...         1  ...       0      0\n",
              "\n",
              "[5 rows x 5 columns]"
            ]
          },
          "metadata": {
            "tags": []
          },
          "execution_count": 130
        }
      ]
    },
    {
      "cell_type": "markdown",
      "metadata": {
        "id": "rQrfI9HjVsB-",
        "colab_type": "text"
      },
      "source": [
        "### Data Splitting"
      ]
    },
    {
      "cell_type": "code",
      "metadata": {
        "id": "zwViwi-VaOx-",
        "colab_type": "code",
        "colab": {}
      },
      "source": [
        "# mendefinisikan deskripsi dan label\n",
        "deskripsi = new_df['Description'].values\n",
        "label = new_df[new_df.columns[1:]].values\n",
        "\n",
        "# data splitting\n",
        "deskripsi_train, deskripsi_test, label_latih, label_test = train_test_split(deskripsi, label, test_size=0.2)"
      ],
      "execution_count": null,
      "outputs": []
    },
    {
      "cell_type": "markdown",
      "metadata": {
        "id": "RDPGiXJkfVwU",
        "colab_type": "text"
      },
      "source": [
        "### Pembuatan Arsitektur Model (LSTM)"
      ]
    },
    {
      "cell_type": "code",
      "metadata": {
        "id": "BuEpr21jzevE",
        "colab_type": "code",
        "colab": {}
      },
      "source": [
        "# jumlah kata maksimal yang digunakan\n",
        "MAX_NB_WORDS = 25000\n",
        "# jumlah kata per sequence\n",
        "MAX_SEQUENCE_LENGTH = 100\n",
        "# dimensi embedding \n",
        "EMBEDDING_DIM = 16"
      ],
      "execution_count": null,
      "outputs": []
    },
    {
      "cell_type": "code",
      "metadata": {
        "id": "SS7RbEx3bkjb",
        "colab_type": "code",
        "colab": {
          "base_uri": "https://localhost:8080/",
          "height": 51
        },
        "outputId": "234bd80a-70d4-45c4-c043-b798b56e1d79"
      },
      "source": [
        "tokenizer = Tokenizer(num_words=MAX_NB_WORDS,\n",
        "                      filters='!\"#$%&()*+,-./:;<=>?@[\\]^_`{|}~',\n",
        "                      oov_token='x')\n",
        "\n",
        "tokenizer.fit_on_texts(deskripsi_train)\n",
        "tokenizer.fit_on_texts(deskripsi_test)\n",
        "\n",
        "sequence_train = tokenizer.texts_to_sequences(deskripsi_train)\n",
        "sequence_test = tokenizer.texts_to_sequences(deskripsi_test)\n",
        "\n",
        "padded_train = pad_sequences(sequence_train, maxlen=MAX_SEQUENCE_LENGTH)\n",
        "padded_test = pad_sequences(sequence_test, maxlen=MAX_SEQUENCE_LENGTH)\n",
        "\n",
        "# jumlah unique tokens\n",
        "word_index = tokenizer.word_index\n",
        "print('Found %s unique tokens.' % len(word_index))\n",
        "\n",
        "# shape dari data tensor\n",
        "print('shape of data tensor', padded_train.shape)"
      ],
      "execution_count": null,
      "outputs": [
        {
          "output_type": "stream",
          "text": [
            "Found 90989 unique tokens.\n",
            "shape of data tensor (102080, 100)\n"
          ],
          "name": "stdout"
        }
      ]
    },
    {
      "cell_type": "code",
      "metadata": {
        "id": "qkAzBJAwfTKC",
        "colab_type": "code",
        "colab": {}
      },
      "source": [
        "# membuat arsitektur model\n",
        "model = Sequential(\n",
        "    [\n",
        "     Embedding(input_dim=MAX_NB_WORDS, output_dim=EMBEDDING_DIM, input_length=MAX_SEQUENCE_LENGTH),\n",
        "     LSTM(64, dropout=0.3, recurrent_dropout=0.3),\n",
        "     Dense(64, activation='relu'),\n",
        "     Dense(32, activation='relu'),\n",
        "     Dense(4, activation='softmax') \n",
        "    ]\n",
        ")"
      ],
      "execution_count": null,
      "outputs": []
    },
    {
      "cell_type": "code",
      "metadata": {
        "id": "h-VMf_8ml-I2",
        "colab_type": "code",
        "colab": {}
      },
      "source": [
        "model.compile(optimizer=tf.keras.optimizers.Adam(), #tipe optimizer\n",
        "                   loss='categorical_crossentropy', #tipe loss untuk klasifikasi multi kelas\n",
        "                   metrics=['accuracy'])"
      ],
      "execution_count": null,
      "outputs": []
    },
    {
      "cell_type": "code",
      "metadata": {
        "id": "gLB4r5jz2zUO",
        "colab_type": "code",
        "colab": {}
      },
      "source": [
        "# mendefinisikan fungsi callbacks yang akan digunakan pada model fitting\n",
        "class modelCallbacks(tf.keras.callbacks.Callback):\n",
        "  def on_epoch_end(self, epoch, logs={}):\n",
        "    if (logs.get('accuracy')>0.9 && logs.get('val_accuracy')>0.9):\n",
        "      print('Accuracy has reached more than 90 percent')\n",
        "      self.model.stop_training = True\n",
        "\n",
        "callbacks = modelCallbacks()"
      ],
      "execution_count": null,
      "outputs": []
    },
    {
      "cell_type": "code",
      "metadata": {
        "id": "_oIAi_xVmIYL",
        "colab_type": "code",
        "colab": {
          "base_uri": "https://localhost:8080/",
          "height": 102
        },
        "outputId": "8f33a8c0-19c9-4064-a4a2-58d057e05a45"
      },
      "source": [
        "# model fitting\n",
        "\n",
        "num_epochs = 15\n",
        "batch_size = 64\n",
        "model_history = model.fit(padded_train, \n",
        "                          label_latih, \n",
        "                          epochs=num_epochs, \n",
        "                          batch_size=batch_size,\n",
        "                          validation_data=(padded_test, label_test),\n",
        "                          callbacks=[callbacks],\n",
        "                          verbose=2)"
      ],
      "execution_count": null,
      "outputs": [
        {
          "output_type": "stream",
          "text": [
            "Epoch 1/15\n",
            "1595/1595 - 181s - loss: 0.3527 - accuracy: 0.8811 - val_loss: 0.2926 - val_accuracy: 0.9020\n",
            "Epoch 2/15\n",
            "Accuracy has reached more than 90 percent\n",
            "1595/1595 - 181s - loss: 0.2531 - accuracy: 0.9170 - val_loss: 0.2855 - val_accuracy: 0.9073\n"
          ],
          "name": "stdout"
        }
      ]
    },
    {
      "cell_type": "markdown",
      "metadata": {
        "id": "2-W0aXLZepvU",
        "colab_type": "text"
      },
      "source": [
        "### Plot Akurasi dan Loss dari Model latih"
      ]
    },
    {
      "cell_type": "code",
      "metadata": {
        "id": "nXTi-s2NeotY",
        "colab_type": "code",
        "colab": {
          "base_uri": "https://localhost:8080/",
          "height": 295
        },
        "outputId": "f40f04a4-98d5-4956-b200-56d9f3bf4ceb"
      },
      "source": [
        "# plot akurasi dari model\n",
        "plt.plot(model_history.history['accuracy'], label='train')\n",
        "plt.plot(model_history.history['val_accuracy'], label='test')\n",
        "plt.title('Model Accuracy')\n",
        "plt.ylabel('accuracy')\n",
        "plt.xlabel('epochs')\n",
        "plt.legend(['Train', 'Test'], loc='upper left')\n",
        "plt.show()"
      ],
      "execution_count": null,
      "outputs": [
        {
          "output_type": "display_data",
          "data": {
            "image/png": "[encoded data removed]",
            "text/plain": [
              "<Figure size 432x288 with 1 Axes>"
            ]
          },
          "metadata": {
            "tags": [],
            "needs_background": "light"
          }
        }
      ]
    },
    {
      "cell_type": "code",
      "metadata": {
        "id": "piRm-7CFqOHn",
        "colab_type": "code",
        "colab": {
          "base_uri": "https://localhost:8080/",
          "height": 295
        },
        "outputId": "67b4768c-c42e-4513-81e4-2821c53e593a"
      },
      "source": [
        "# plot loss dari model\n",
        "\n",
        "plt.plot(model_history.history['loss'], label='train')\n",
        "plt.plot(model_history.history['val_loss'], label='test')\n",
        "plt.title('Model Loss')\n",
        "plt.ylabel('loss')\n",
        "plt.xlabel('epochs')\n",
        "plt.legend(['Train', 'Test'], loc='upper right')\n",
        "plt.show()"
      ],
      "execution_count": null,
      "outputs": [
        {
          "output_type": "display_data",
          "data": {
            "image/png": "[encoded data removed]",
            "text/plain": [
              "<Figure size 432x288 with 1 Axes>"
            ]
          },
          "metadata": {
            "tags": [],
            "needs_background": "light"
          }
        }
      ]
    },
    {
      "cell_type": "markdown",
      "metadata": {
        "id": "MH0j9N6zr5NY",
        "colab_type": "text"
      },
      "source": [
        "## Kesimpulan:\n",
        "\n",
        "Dari proses pembangunan model NLP di atas dapat disimpulkan bahwa model sesuai dengan dataset yang digunakan karena menunjukkan good fit (akurasi baik train maupun test lebih dari 90 dan tidak overfitting atau underfitting).\n",
        "\n",
        "Hasil yang baik ini juga didukung oleh dataset yang rapih dan bersih sehingga membuat mesin mampu membaca pola dengan baik melalui model yang telah dibangun."
      ]
    }
  ]
}